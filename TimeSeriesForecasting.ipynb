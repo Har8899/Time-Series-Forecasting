{
 "cells": [
  {
   "cell_type": "code",
   "execution_count": 1,
   "id": "461a21de",
   "metadata": {},
   "outputs": [],
   "source": [
    "import numpy as np\n",
    "from tensorflow.keras.models import Sequential\n",
    "from tensorflow.keras.layers import LSTM, Dense, Flatten"
   ]
  },
  {
   "cell_type": "code",
   "execution_count": 2,
   "id": "175bfb60",
   "metadata": {},
   "outputs": [],
   "source": [
    "# Prepare independent features and dependent features\n",
    "def prepare_data(timeseries_data, n_features):\n",
    "    X, y = [], []\n",
    "    for i in range(len(timeseries_data)):\n",
    "        end_ix = i +n_features\n",
    "        if end_ix > len(timeseries_data) - 1:\n",
    "            break\n",
    "        # gather input and output parts of the pattern\n",
    "        seq_x, seq_y = timeseries_data[i:end_ix], timeseries_data[end_ix]\n",
    "        X.append(seq_x)\n",
    "        y.append(seq_y)\n",
    "    return np.array(X), np.array(y)"
   ]
  },
  {
   "cell_type": "code",
   "execution_count": 6,
   "id": "c7b0d7c6",
   "metadata": {},
   "outputs": [],
   "source": [
    "# define input sequence\n",
    "timeseries_data = [110, 125,133,146, 158, 172, 196, 210, 225]\n",
    "\n",
    "# choose a number of time steps\n",
    "n_feature = 3\n",
    "\n",
    "#split into samples\n",
    "X, y = prepare_data(timeseries_data, n_feature)"
   ]
  },
  {
   "cell_type": "code",
   "execution_count": 7,
   "id": "884215bc",
   "metadata": {},
   "outputs": [
    {
     "name": "stdout",
     "output_type": "stream",
     "text": [
      "[[110 125 133]\n",
      " [125 133 146]\n",
      " [133 146 158]\n",
      " [146 158 172]\n",
      " [158 172 196]\n",
      " [172 196 210]]\n",
      "[146 158 172 196 210 225]\n"
     ]
    }
   ],
   "source": [
    "print(X)\n",
    "print(y)"
   ]
  },
  {
   "cell_type": "code",
   "execution_count": 8,
   "id": "6521b4a5",
   "metadata": {},
   "outputs": [
    {
     "data": {
      "text/plain": [
       "((6, 3), (6,))"
      ]
     },
     "execution_count": 8,
     "metadata": {},
     "output_type": "execute_result"
    }
   ],
   "source": [
    "X.shape, y.shape"
   ]
  },
  {
   "cell_type": "code",
   "execution_count": 9,
   "id": "a2a52a5c",
   "metadata": {},
   "outputs": [],
   "source": [
    "#reshape from [samples, timesptes] into [samples, timesteps,features]\n",
    "n_features = 1\n",
    "X = X.reshape(X.shape[0], X.shape[1], n_features)"
   ]
  },
  {
   "cell_type": "code",
   "execution_count": 10,
   "id": "23fcc5d5",
   "metadata": {},
   "outputs": [
    {
     "data": {
      "text/plain": [
       "(6, 3, 1)"
      ]
     },
     "execution_count": 10,
     "metadata": {},
     "output_type": "execute_result"
    }
   ],
   "source": [
    "X.shape"
   ]
  },
  {
   "cell_type": "markdown",
   "id": "4afbbcd4",
   "metadata": {},
   "source": [
    "# Building LSTM Model"
   ]
  },
  {
   "cell_type": "code",
   "execution_count": 11,
   "id": "6035473c",
   "metadata": {},
   "outputs": [
    {
     "data": {
      "text/plain": [
       "<keras.callbacks.History at 0x1a165c1dea0>"
      ]
     },
     "execution_count": 11,
     "metadata": {},
     "output_type": "execute_result"
    }
   ],
   "source": [
    "model = Sequential()\n",
    "model.add(LSTM(50,activation ='relu', return_sequences = True, input_shape=(n_feature,n_features)))\n",
    "model.add(LSTM(50, activation = 'relu'))\n",
    "model.add(Dense(1))\n",
    "model.compile(optimizer = 'adam',loss= 'mse')\n",
    "\n",
    "# fit model\n",
    "model.fit(X, y, epochs= 300, verbose= 0)"
   ]
  },
  {
   "cell_type": "markdown",
   "id": "c08c354c",
   "metadata": {},
   "source": [
    "# Predicting for the next 10 days"
   ]
  },
  {
   "cell_type": "code",
   "execution_count": 12,
   "id": "e6fdcfe2",
   "metadata": {},
   "outputs": [
    {
     "name": "stdout",
     "output_type": "stream",
     "text": [
      "1 day input: [196.         210.         238.79914856]\n",
      "1 day output: 255.27601623535156\n",
      "\n",
      "2 day input: [210.         238.79914856 255.27601624]\n",
      "2 day output: 278.5433044433594\n",
      "\n",
      "3 day input: [238.79915 255.27602 278.5433 ]\n",
      "3 day output: 307.7838134765625\n",
      "\n",
      "4 day input: [255.27602 278.5433  307.7838 ]\n",
      "4 day output: 332.6785583496094\n",
      "\n",
      "5 day input: [278.5433  307.7838  332.67856]\n",
      "5 day output: 363.4881896972656\n",
      "\n",
      "6 day input: [307.7838  332.67856 363.4882 ]\n",
      "6 day output: 397.44061279296875\n",
      "\n",
      "7 day input: [332.67856 363.4882  397.4406 ]\n",
      "7 day output: 431.5448303222656\n",
      "\n",
      "8 day input: [363.4882  397.4406  431.54483]\n",
      "8 day output: 470.7359619140625\n",
      "\n",
      "9 day input: [397.4406  431.54483 470.73596]\n",
      "9 day output: 512.9437255859375\n",
      "\n"
     ]
    }
   ],
   "source": [
    "x_input = np.array([187, 196, 210])\n",
    "temp_input = list(x_input)\n",
    "lst_output = []\n",
    "i=0\n",
    "while(i<10):\n",
    "    if (len(temp_input) > 3):\n",
    "        x_input = np.array(temp_input[1:])\n",
    "        # print (x_input)\n",
    "        print(\"{} day input: {}\".format(i, x_input))\n",
    "        x_input = x_input.reshape((1, n_feature, n_features))\n",
    "        yhat = model.predict(x_input, verbose = 0)\n",
    "        print(\"{} day output: {}\".format(i,yhat[0][0]))\n",
    "        print()\n",
    "        temp_input.append(yhat[0][0])\n",
    "        temp_input = temp_input[1:]\n",
    "        # print(temp_input)\n",
    "        lst_output.append(yhat[0][0])\n",
    "        i = i +1\n",
    "    else:\n",
    "        x_input = x_input.reshape((1, n_feature, n_features))\n",
    "        yhat = model.predict(x_input, verbose = 0)\n",
    "        #print(yhat.shape)\n",
    "        # print(yhat[0][0])\n",
    "        temp_input.append(yhat[0][0])\n",
    "        lst_output.append(yhat[0][0])\n",
    "        i = i+1"
   ]
  },
  {
   "cell_type": "markdown",
   "id": "0a95207e",
   "metadata": {},
   "source": [
    "# Visualizing the output"
   ]
  },
  {
   "cell_type": "code",
   "execution_count": 13,
   "id": "f7b20c06",
   "metadata": {},
   "outputs": [],
   "source": [
    "import matplotlib.pyplot as plt"
   ]
  },
  {
   "cell_type": "code",
   "execution_count": 14,
   "id": "4c6b3540",
   "metadata": {},
   "outputs": [
    {
     "data": {
      "text/plain": [
       "[110, 125, 133, 146, 158, 172, 196, 210, 225]"
      ]
     },
     "execution_count": 14,
     "metadata": {},
     "output_type": "execute_result"
    }
   ],
   "source": [
    "timeseries_data"
   ]
  },
  {
   "cell_type": "code",
   "execution_count": 15,
   "id": "57c97416",
   "metadata": {},
   "outputs": [
    {
     "data": {
      "text/plain": [
       "[238.79915,\n",
       " 255.27602,\n",
       " 278.5433,\n",
       " 307.7838,\n",
       " 332.67856,\n",
       " 363.4882,\n",
       " 397.4406,\n",
       " 431.54483,\n",
       " 470.73596,\n",
       " 512.9437]"
      ]
     },
     "execution_count": 15,
     "metadata": {},
     "output_type": "execute_result"
    }
   ],
   "source": [
    "lst_output"
   ]
  },
  {
   "cell_type": "code",
   "execution_count": 16,
   "id": "5af2c495",
   "metadata": {},
   "outputs": [],
   "source": [
    "day_new = np.arange(1,10)\n",
    "day_pred = np.arange(10,20)\n"
   ]
  },
  {
   "cell_type": "code",
   "execution_count": 17,
   "id": "59af61e2",
   "metadata": {},
   "outputs": [
    {
     "data": {
      "text/plain": [
       "[<matplotlib.lines.Line2D at 0x1a16c578a00>]"
      ]
     },
     "execution_count": 17,
     "metadata": {},
     "output_type": "execute_result"
    },
    {
     "data": {
      "image/png": "[encoded data removed]",
      "text/plain": [
       "<Figure size 640x480 with 1 Axes>"
      ]
     },
     "metadata": {},
     "output_type": "display_data"
    }
   ],
   "source": [
    "plt.plot(day_new, timeseries_data)\n",
    "plt.plot(day_pred,lst_output)"
   ]
  },
  {
   "cell_type": "code",
   "execution_count": null,
   "id": "cd357f26",
   "metadata": {},
   "outputs": [],
   "source": []
  }
 ],
 "metadata": {
  "kernelspec": {
   "display_name": "Python 3 (ipykernel)",
   "language": "python",
   "name": "python3"
  },
  "language_info": {
   "codemirror_mode": {
    "name": "ipython",
    "version": 3
   },
   "file_extension": ".py",
   "mimetype": "text/x-python",
   "name": "python",
   "nbconvert_exporter": "python",
   "pygments_lexer": "ipython3",
   "version": "3.10.9"
  }
 },
 "nbformat": 4,
 "nbformat_minor": 5
}
